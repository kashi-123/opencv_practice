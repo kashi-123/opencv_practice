{
 "cells": [
  {
   "cell_type": "code",
   "execution_count": 1,
   "metadata": {},
   "outputs": [
    {
     "name": "stdout",
     "output_type": "stream",
     "text": [
      "Requirement already satisfied: pyzbar in c:\\users\\zenbook\\anaconda3\\lib\\site-packages (0.1.8)\n"
     ]
    }
   ],
   "source": [
    "!pip3 install pyzbar"
   ]
  },
  {
   "cell_type": "code",
   "execution_count": 2,
   "metadata": {},
   "outputs": [],
   "source": [
    "import cv2\n",
    "import numpy as np\n",
    "import pyzbar.pyzbar as pyzbar"
   ]
  },
  {
   "cell_type": "code",
   "execution_count": 3,
   "metadata": {},
   "outputs": [],
   "source": [
    "cap= cv2.VideoCapture(0)\n",
    "font = cv2.FONT_HERSHEY_PLAIN"
   ]
  },
  {
   "cell_type": "code",
   "execution_count": null,
   "metadata": {},
   "outputs": [],
   "source": [
    "while True:\n",
    "    ret , frame = cap.read()\n",
    "    decodeObjects = pyzbar.decode(frame)\n",
    "    for obj in decodeObjects:\n",
    "        qrdata = str(obj.data)\n",
    "        qrdata = qrdata[2:-1]\n",
    "        cv2.putText(frame , qrdata , (50,50) , font , 2, (255,255,255) , 3)\n",
    "    cv2.imshow(\"Frame\",frame)\n",
    "    key=cv2.waitKey(1)\n",
    "    if(key == 'q'):\n",
    "        break;"
   ]
  }
 ],
 "metadata": {
  "kernelspec": {
   "display_name": "Python 3",
   "language": "python",
   "name": "python3"
  },
  "language_info": {
   "codemirror_mode": {
    "name": "ipython",
    "version": 3
   },
   "file_extension": ".py",
   "mimetype": "text/x-python",
   "name": "python",
   "nbconvert_exporter": "python",
   "pygments_lexer": "ipython3",
   "version": "3.8.3"
  }
 },
 "nbformat": 4,
 "nbformat_minor": 4
}
